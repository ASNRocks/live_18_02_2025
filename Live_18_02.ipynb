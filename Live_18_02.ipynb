{
 "cells": [
  {
   "cell_type": "code",
   "execution_count": null,
   "id": "41c7acf0",
   "metadata": {},
   "outputs": [],
   "source": [
    "#carregando bibliotecas\n",
    "import os\n",
    "import pandas as pd\n",
    "import matplotlib.pyplot as plt\n",
    "import seaborn as sns"
   ]
  },
  {
   "cell_type": "code",
   "execution_count": null,
   "id": "f2246e80",
   "metadata": {},
   "outputs": [],
   "source": [
    "# Diretório onde estão os arquivos\n",
    "pasta_arquivos = \"dados\" "
   ]
  },
  {
   "cell_type": "code",
   "execution_count": null,
   "id": "ab54252d",
   "metadata": {},
   "outputs": [],
   "source": [
    "# Arquivos dos Extrato de doações\n",
    "\n",
    "# Listar todos os arquivos que seguem o mesmo padrão\n",
    "arquivos = [f for f in os.listdir(pasta_arquivos) if f.startswith(\"Extrato_31_\") and f.endswith(\".xlsx\")]\n",
    "\n",
    "# Lista para armazenar os DataFrames\n",
    "dfs = []\n",
    "\n",
    "# Ler cada arquivo e adicioná-lo à lista\n",
    "total_arquivos = len(arquivos)\n",
    "print(f\"Encontrados {total_arquivos} arquivos para consolidar...\")\n",
    "for arquivo in arquivos:\n",
    "    caminho_arquivo = os.path.join(pasta_arquivos, arquivo)\n",
    "    df = pd.read_excel(caminho_arquivo)  # Lendo o arquivo\n",
    "    df[\"Fonte\"] = arquivo  # Adicionar coluna de origem para referência\n",
    "    dfs.append(df)  # Adicionando à lista\n",
    "\n",
    "# Concatenar todos os DataFrames\n",
    "consolidado_arrecadado = pd.concat(dfs, ignore_index=True)\n",
    "#transformando data em data\n",
    "consolidado_arrecadado[\"Data\"] = pd.to_datetime(consolidado_arrecadado[\"Data\"], errors=\"coerce\", dayfirst=True)\n",
    "#criando mes ano\n",
    "consolidado_arrecadado[\"AnoMes\"] = consolidado_arrecadado[\"Data\"].dt.to_period(\"M\")\n",
    "#criando ano\n",
    "consolidado_arrecadado[\"Ano\"] = consolidado_arrecadado[\"Data\"].dt.year\n",
    "\n",
    "consolidado_arrecadado"
   ]
  },
  {
   "cell_type": "code",
   "execution_count": null,
   "id": "eb6ecc35",
   "metadata": {},
   "outputs": [],
   "source": [
    "# Caminho do arquivo Excel\n",
    "arquivo_custos = \"dados\\Custos_mensal.xlsx\" \n",
    "\n",
    "# Carregar todas as abas do arquivo\n",
    "xls = pd.ExcelFile(arquivo_custos)\n",
    "\n",
    "# Filtrar apenas as abas que seguem o padrão 'gastos_mes_ano'\n",
    "abas_validas = [sheet for sheet in xls.sheet_names if sheet.startswith(\"gastos_\")]\n",
    "\n",
    "# Lista para armazenar os DataFrames\n",
    "dfs = []\n",
    "\n",
    "print(f\"Encontradas {len(abas_validas)} abas para consolidar...\")\n",
    "for aba in abas_validas:\n",
    "    df = pd.read_excel(xls, sheet_name=aba, usecols=[0, 1, 2, 3, 4], header=0)  # Lendo cada aba\n",
    "    df[\"Fonte\"] = aba  # Adicionar coluna de origem para referência\n",
    "    dfs.append(df)\n",
    "\n",
    "# Concatenar todas as abas\n",
    "consolidado_custos = pd.concat(dfs, ignore_index=True)\n",
    "\n",
    "#transformando data em data\n",
    "consolidado_custos[\"Data\"] = pd.to_datetime(consolidado_custos[\"Data\"], errors=\"coerce\", dayfirst=True)\n",
    "#criando mes ano\n",
    "consolidado_custos[\"AnoMes\"] = consolidado_custos[\"Data\"].dt.to_period(\"M\")\n",
    "#criando ano\n",
    "consolidado_custos[\"Ano\"] = consolidado_custos[\"Data\"].dt.year\n",
    "\n",
    "consolidado_custos"
   ]
  },
  {
   "cell_type": "code",
   "execution_count": null,
   "id": "9157cde2",
   "metadata": {},
   "outputs": [],
   "source": [
    "# Caminho do arquivo Excel\n",
    "arquivo_marmitas = \"dados\\Descricao_Marmitas.xlsx\"  \n",
    "descricao_marmitas = pd.read_excel(arquivo_marmitas)\n",
    "\n",
    "# Remover linhas onde as colunas principais estão em branco\n",
    "descricao_marmitas = descricao_marmitas.dropna(subset=[\"Data\", \"Quantidade\", \"Cardápio\"])\n",
    "\n",
    "#Substituindo NaN por 0 nas quantidades de alimentos\n",
    "descricao_marmitas.iloc[:, 4:11] = descricao_marmitas.iloc[:, 4:11].fillna(0)\n",
    "\n",
    "#transformando data em data\n",
    "descricao_marmitas[\"Data\"] = pd.to_datetime(descricao_marmitas[\"Data\"], errors=\"coerce\", dayfirst=True)\n",
    "#criando mes ano\n",
    "descricao_marmitas[\"AnoMes\"] = descricao_marmitas[\"Data\"].dt.to_period(\"M\")\n",
    "#criando ano\n",
    "descricao_marmitas[\"Ano\"] = descricao_marmitas[\"Data\"].dt.year\n",
    "\n",
    "descricao_marmitas"
   ]
  }
 ],
 "metadata": {
  "kernelspec": {
   "display_name": "Python 3 (ipykernel)",
   "language": "python",
   "name": "python3"
  },
  "language_info": {
   "codemirror_mode": {
    "name": "ipython",
    "version": 3
   },
   "file_extension": ".py",
   "mimetype": "text/x-python",
   "name": "python",
   "nbconvert_exporter": "python",
   "pygments_lexer": "ipython3",
   "version": "3.9.13"
  }
 },
 "nbformat": 4,
 "nbformat_minor": 5
}
